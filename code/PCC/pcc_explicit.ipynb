{
 "cells": [
  {
   "cell_type": "code",
   "execution_count": 15,
   "metadata": {},
   "outputs": [
    {
     "data": {
      "text/plain": [
       "PosixPath('/Users/taerimyoon/toy/temp/KINN/code')"
      ]
     },
     "execution_count": 15,
     "metadata": {},
     "output_type": "execute_result"
    }
   ],
   "source": [
    "from pathlib import Path\n",
    "import os\n",
    "path = Path().absolute()\n",
    "\n",
    "if path.name ==\"PCC\":\n",
    "    os.chdir(path.parent)\n",
    "\n",
    "BASEDIR = Path().absolute()\n",
    "BASEDIR"
   ]
  },
  {
   "cell_type": "code",
   "execution_count": 16,
   "metadata": {},
   "outputs": [],
   "source": [
    "from utils.dataloader import get_dataset, Sampler\n",
    "train_dataset,val_dataset,test_dataset,ext_dataset  = get_dataset(f\"../dataset/ELASTICA.json\", 1.0)"
   ]
  },
  {
   "cell_type": "code",
   "execution_count": 17,
   "metadata": {},
   "outputs": [
    {
     "data": {
      "text/plain": [
       "ARGS(MODEL='PRIMNET', EVEN_JOINTS=True, WANDB=True, pname='PRIMNET_v2.2', runname='ELASTICA', DATASET='ELASTICA', TPOSE=((0, 0, 0.12),), LOAD_WEIGHTPATH=None, SAVE_PERIOD=1, TEST_PERIOD=1, EVEN_JOINT=True, p_offset_std=0.1, rpy_offset_std=0.01, axis_std=0.1, OUTPUT_NORMALIZE=False, seed=0, hdim=(16, 16), motor_embed_dim=4, lr=0.0015, lrd=0.95, wd=0.0, w_vec=0.1, epochs=2000, focus_ratio=0.2, data_ratio=1.0, n_workers=2, batch_size=64, joint_seqs=('T', 'R', 'R', 'R', 'R', 'T', 'P'), marker_num=1, motor_dim=2)"
      ]
     },
     "execution_count": 17,
     "metadata": {},
     "output_type": "execute_result"
    }
   ],
   "source": [
    "from utils.args import read_ARGS\n",
    "configs = \"PRIMNET/Elastica.py\"\n",
    "\n",
    "\n",
    "args = read_ARGS((BASEDIR/'configs'/configs).absolute())\n",
    "args"
   ]
  },
  {
   "cell_type": "code",
   "execution_count": 18,
   "metadata": {},
   "outputs": [],
   "source": [
    "args.section_number = 6"
   ]
  },
  {
   "cell_type": "code",
   "execution_count": 19,
   "metadata": {},
   "outputs": [],
   "source": [
    "import torch\n",
    "\n",
    "def eye_batch(batch_size, dim = 4):\n",
    "    return torch.tile(torch.eye(dim),dims=(batch_size,1,1))"
   ]
  },
  {
   "cell_type": "code",
   "execution_count": 20,
   "metadata": {},
   "outputs": [
    {
     "data": {
      "text/plain": [
       "torch.Size([16, 6, 4, 4])"
      ]
     },
     "execution_count": 20,
     "metadata": {},
     "output_type": "execute_result"
    }
   ],
   "source": [
    "from utils.pyart import r2t,rpy2r,pr2t, t2p\n",
    "\n",
    "batch_size = 16\n",
    "\n",
    "phi    = torch.ones(batch_size, args.section_number)\n",
    "theta  = torch.ones(batch_size, args.section_number)\n",
    "radius = torch.ones(batch_size, args.section_number)\n",
    "\n",
    "\n",
    "\n",
    "def forward_pcc(phi, theta, radius):\n",
    "    device = phi.device\n",
    "\n",
    "    batch_size = phi.shape[0]\n",
    "    section_number = phi.shape[1]\n",
    "    \n",
    "    outs = []\n",
    "    out = eye_batch(batch_size, dim=4).to(device)\n",
    "\n",
    "    for section in range(section_number):\n",
    "        phi_ = phi[:,section]\n",
    "        theta_ = theta[:,section]\n",
    "        radius_ = radius[:,section]\n",
    "        \n",
    "        phi_rpy = torch.stack([torch.zeros_like(phi_), torch.zeros_like(phi_), phi_], dim=1)\n",
    "        assert phi_rpy.shape == (batch_size,3)\n",
    "        T1 = r2t(rpy2r(phi_rpy))\n",
    "\n",
    "        theta_rpy = torch.stack([ -theta_, torch.zeros_like(-theta_), torch.zeros_like(-theta_)],dim = 1)\n",
    "        assert theta_rpy.shape == (batch_size,3)\n",
    "        \n",
    "        P = torch.zeros(batch_size, 3, 1).to(device)\n",
    "        \n",
    "        assert (radius_ * (1-torch.cos(theta_))).shape == (batch_size,)\n",
    "        assert (radius_ * torch.sin(theta_)).shape == (batch_size,)\n",
    "        \n",
    "        P[:,1,0] = radius_ * (1-torch.cos(theta_))\n",
    "        P[:,2,0] = radius_ * torch.sin(theta_)\n",
    "        \n",
    "        T2 = pr2t(P,rpy2r(theta_rpy))\n",
    "        \n",
    "        T = T1@T2\n",
    "        out = out @ T\n",
    "        outs.append(out)\n",
    "    \n",
    "    outs = torch.stack(outs, dim=1)\n",
    "    return outs\n",
    "\n",
    "forward_pcc(phi,theta,radius).shape"
   ]
  },
  {
   "cell_type": "code",
   "execution_count": 21,
   "metadata": {},
   "outputs": [],
   "source": [
    "train_sampler = Sampler(args, train_dataset)\n",
    "val_sampler   = Sampler(args, val_dataset)\n",
    "test_sampler  = Sampler(args, test_dataset)\n",
    "ext_sampler   = Sampler(args, ext_dataset)\n",
    "\n",
    "PI = torch.pi\n"
   ]
  },
  {
   "cell_type": "code",
   "execution_count": 22,
   "metadata": {},
   "outputs": [],
   "source": [
    "def motor_control_to_array(motor_control):\n",
    "    motor_array = torch.zeros(len(motor_control),4)\n",
    "\n",
    "    motor_array[:,0] = torch.where(motor_control[:,0]>=0, motor_control[:,0], torch.zeros_like(motor_control[:,0]))\n",
    "    motor_array[:,1] = torch.where(motor_control[:,0]<0, -motor_control[:,0], torch.zeros_like(motor_control[:,0]))\n",
    "\n",
    "    motor_array[:,2] = torch.where(motor_control[:,1]>=0, motor_control[:,1], torch.zeros_like(motor_control[:,1]))\n",
    "    motor_array[:,3] = torch.where(motor_control[:,1]<0, -motor_control[:,1], torch.zeros_like(motor_control[:,1]))\n",
    "\n",
    "    return motor_array"
   ]
  },
  {
   "cell_type": "code",
   "execution_count": 23,
   "metadata": {},
   "outputs": [
    {
     "data": {
      "image/png": "[encoded data removed]",
      "text/plain": [
       "<Figure size 640x480 with 1 Axes>"
      ]
     },
     "metadata": {},
     "output_type": "display_data"
    }
   ],
   "source": [
    "x = torch.tensor(.0); y = torch.tensor(.0); z = torch.tensor(.0);\n",
    "L = torch.tensor(120.0)\n",
    "R = torch.tensor(5.0)\n",
    "d = torch.tensor(7.5)\n",
    "\n",
    "\n",
    "LR = torch.tensor([L,R,d,x,y,z])\n",
    "LR.requires_grad = True\n",
    "\n",
    "from torch import optim\n",
    "from torch import nn\n",
    "from torch.nn import functional as F\n",
    "from matplotlib import pyplot as plt\n",
    "from functools import partial\n",
    "\n",
    "optimizer = optim.LBFGS([LR],\n",
    "                        history_size=10,\n",
    "                        max_iter=4,\n",
    "                        line_search_fn=\"strong_wolfe\")\n",
    "\n",
    "\n",
    "\n",
    "def p_loss_fn(x,y):\n",
    "    loss =  F.l1_loss(x,y, reduction='none')\n",
    "    loss = torch.mean(loss, dim=list(range(1,loss.ndim)))\n",
    "    return loss\n",
    "\n",
    "def closure(LR, motor_control):\n",
    "    optimizer.zero_grad()\n",
    "    pred_position = predict(LR, motor_control)\n",
    "    position_loss =  p_loss_fn(pred_position, target_position[:,-1])\n",
    "    \n",
    "    total_loss = torch.mean(position_loss)\n",
    "    total_loss.backward()\n",
    "    return total_loss\n",
    "\n",
    "\n",
    "def predict(LR, motor_control):\n",
    "    L,R,d,x,y,z = LR\n",
    "    motor_array = motor_control_to_array(motor_control)\n",
    "    Lengths = torch.ones_like(motor_array)*L - motor_array/4096 * R * 2*PI\n",
    "    \n",
    "    l1,l3,l4,l2 = Lengths[:,0],Lengths[:,1],Lengths[:,2],Lengths[:,3]\n",
    "\n",
    "    phi = torch.atan2((l4-l2),(l3-l1))\n",
    "    theta = torch.sqrt((l3-l1)**2 + (l4-l2)**2) / (2*d)\n",
    "    l = (l1+l2+l3+l4)/4\n",
    "    radius = l/theta\n",
    "\n",
    "\n",
    "    phi    = phi.reshape(-1,1)\n",
    "    theta  = theta.reshape(-1,1)\n",
    "    radius = radius.reshape(-1,1)\n",
    "\n",
    "    phi.shape, theta.shape, radius.shape\n",
    "    joint_se3 = forward_pcc(phi,theta, radius)\n",
    "\n",
    "    EE_se3 = joint_se3[:,-1,:,:]\n",
    "    pred_position = t2p(EE_se3)\n",
    "    base_position = torch.stack([x,y,z]).reshape(-1,1)\n",
    "    \n",
    "    # assert pred_position.shape[1:] == base_position.shape\n",
    "    # pred_position = pred_position + base_position\n",
    "    return pred_position \n",
    "\n",
    "\n",
    "h_lbfgs = []\n",
    "\n",
    "for i in range(100):\n",
    "    for batch in train_sampler:\n",
    "        target_position = batch[\"position\"]\n",
    "        motor_control = batch[\"motor_control\"]\n",
    "        \n",
    "        optimizer.zero_grad()\n",
    "    \n",
    "    # pred_position = f(LR)\n",
    "    # position_loss =  p_loss_fn(pred_position, target_position[:,-1])\n",
    "    # objective = torch.mean(position_loss)\n",
    "    \n",
    "    \n",
    "    objective = optimizer.step(partial(closure, LR, motor_control))\n",
    "    h_lbfgs.append(objective.item())\n",
    "    \n",
    "plt.semilogy(h_lbfgs, label='L-BFGS')\n",
    "plt.legend()\n",
    "plt.show()"
   ]
  },
  {
   "cell_type": "code",
   "execution_count": 24,
   "metadata": {},
   "outputs": [
    {
     "data": {
      "text/plain": [
       "tensor([ 0.1219,  0.5179, 12.4049,  0.0000,  0.0000,  0.0000],\n",
       "       requires_grad=True)"
      ]
     },
     "execution_count": 24,
     "metadata": {},
     "output_type": "execute_result"
    }
   ],
   "source": [
    "LR"
   ]
  },
  {
   "cell_type": "code",
   "execution_count": null,
   "metadata": {},
   "outputs": [],
   "source": []
  },
  {
   "cell_type": "code",
   "execution_count": 25,
   "metadata": {},
   "outputs": [
    {
     "data": {
      "text/plain": [
       "tensor(0.0115, grad_fn=<MeanBackward0>)"
      ]
     },
     "execution_count": 25,
     "metadata": {},
     "output_type": "execute_result"
    }
   ],
   "source": [
    "pred_position = predict(LR, motor_control)\n",
    "position_loss =  p_loss_fn(pred_position, target_position[:,-1])\n",
    "objective = torch.mean(position_loss)\n",
    "objective"
   ]
  },
  {
   "cell_type": "code",
   "execution_count": 26,
   "metadata": {},
   "outputs": [
    {
     "name": "stdout",
     "output_type": "stream",
     "text": [
      "0.011555283330380917\n",
      "0.021585924550890923\n"
     ]
    }
   ],
   "source": [
    "for sampler in [test_sampler, ext_sampler]:\n",
    "\n",
    "    batch = sampler.sample_all()\n",
    "    motor_control = batch[\"motor_control\"]\n",
    "    target_position = batch[\"position\"]\n",
    "\n",
    "\n",
    "    with torch.no_grad():\n",
    "        pred_position = predict(LR, motor_control)\n",
    "        position_loss =  p_loss_fn(pred_position, target_position[:,-1])\n",
    "\n",
    "        total_loss = torch.mean(position_loss)\n",
    "        print(float(total_loss))\n",
    "        "
   ]
  },
  {
   "cell_type": "code",
   "execution_count": null,
   "metadata": {},
   "outputs": [],
   "source": []
  }
 ],
 "metadata": {
  "kernelspec": {
   "display_name": "Python 3",
   "language": "python",
   "name": "python3"
  },
  "language_info": {
   "codemirror_mode": {
    "name": "ipython",
    "version": 3
   },
   "file_extension": ".py",
   "mimetype": "text/x-python",
   "name": "python",
   "nbconvert_exporter": "python",
   "pygments_lexer": "ipython3",
   "version": "3.8.13"
  },
  "orig_nbformat": 4
 },
 "nbformat": 4,
 "nbformat_minor": 2
}
