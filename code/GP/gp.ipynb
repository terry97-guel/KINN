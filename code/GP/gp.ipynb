{
 "cells": [
  {
   "cell_type": "code",
   "execution_count": 2,
   "metadata": {},
   "outputs": [
    {
     "data": {
      "text/plain": [
       "PosixPath('/home/taerim/sOftrobot/PRIMNET-V2/code')"
      ]
     },
     "execution_count": 2,
     "metadata": {},
     "output_type": "execute_result"
    }
   ],
   "source": [
    "from pathlib import Path\n",
    "import os\n",
    "path = Path().absolute()\n",
    "\n",
    "if path.name ==\"GP\":\n",
    "    os.chdir(path.parent)\n",
    "\n",
    "BASEDIR = Path().absolute()\n",
    "BASEDIR"
   ]
  },
  {
   "cell_type": "code",
   "execution_count": 113,
   "metadata": {},
   "outputs": [
    {
     "data": {
      "text/plain": [
       "ARGS(MODEL='PRIMNET', EVEN_JOINTS=True, WANDB=True, pname='PRIMNET_v2.2', runname='FINGER', DATASET='FINGER', TPOSE=((0, 0, 0.12),), LOAD_WEIGHTPATH=None, SAVE_PERIOD=1, TEST_PERIOD=1, EVEN_JOINT=True, p_offset_std=0.1, rpy_offset_std=0.01, axis_std=0.1, OUTPUT_NORMALIZE=False, seed=0, hdim=(16, 16), motor_embed_dim=4, lr=0.0015, lrd=0.95, wd=0.0, w_vec=0.1, epochs=2000, focus_ratio=0.2, data_ratio=1.0, n_workers=2, batch_size=64, joint_seqs=('T', 'R', 'R', 'R', 'R', 'T', 'P'), marker_num=1, motor_dim=2)"
      ]
     },
     "execution_count": 113,
     "metadata": {},
     "output_type": "execute_result"
    }
   ],
   "source": [
    "from utils.args import read_ARGS\n",
    "configs = \"PRIMNET/FINGER.py\"\n",
    "args = read_ARGS((BASEDIR/'configs'/configs).absolute())\n",
    "args"
   ]
  },
  {
   "cell_type": "code",
   "execution_count": 114,
   "metadata": {},
   "outputs": [],
   "source": [
    "\n",
    "from utils.dataloader import get_dataset, Sampler\n",
    "train_dataset,val_dataset,test_dataset,ext_dataset  = get_dataset(f\"../dataset/{args.DATASET}.json\", 1.0)\n",
    "\n",
    "\n",
    "train_sampler = Sampler(args, train_dataset)\n",
    "val_sampler   = Sampler(args, val_dataset)\n",
    "test_sampler  = Sampler(args, test_dataset)\n",
    "ext_sampler   = Sampler(args, ext_dataset)\n"
   ]
  },
  {
   "cell_type": "code",
   "execution_count": 128,
   "metadata": {},
   "outputs": [],
   "source": [
    "# %%\n",
    "import numpy as np\n",
    "from sklearn.gaussian_process import GaussianProcessRegressor\n",
    "from scipy.spatial.distance import pdist, cdist, squareform\n",
    "from scipy.linalg import cholesky, cho_solve, solve_triangular\n",
    "import torch\n",
    "\n",
    "GPR_CHOLESKY_LOWER = True\n",
    "\n",
    "class GPR(object):\n",
    "    def __init__(self):\n",
    "        self.alpha = 1e-3\n",
    "\n",
    "    def se_kernel(self, Xa, Xb):\n",
    "        # dists_ = pdist(Xa, metric='sqeuclidean')\n",
    "        # K_ = np.exp(-.5 * gamma * dists_)\n",
    "        # K_ = squareform(K_)\n",
    "        # np.fill_diagonal(K, 1)\n",
    "\n",
    "        dists = cdist(Xa, Xb, metric='sqeuclidean')\n",
    "        K = np.exp(- dists / (self.median))\n",
    "\n",
    "        # print(np.equal(K, K_))\n",
    "        return K\n",
    "\n",
    "    def fit(self, X, y):\n",
    "        # Normalize fitting data\n",
    "        self.X_mean = np.mean(X, axis=0)\n",
    "        self.X_std = np.std(X, axis=0)\n",
    "        self.X = (X-self.X_mean)/self.X_std\n",
    "\n",
    "        self.y_mean = np.mean(y, axis=0)\n",
    "        self.y_std = np.std(y, axis=0)\n",
    "        self.y_std = np.maximum(self.y_std, 1e-8)\n",
    "        self.y = (y-self.y_mean)/self.y_std\n",
    "\n",
    "        # print(pdist(X, 'sqeuclidean'))\n",
    "        self.median = np.median(pdist(X, 'sqeuclidean'))\n",
    "\n",
    "        K = self.se_kernel(self.X, self.X)\n",
    "        # noise™\n",
    "        K[np.diag_indices_from(K)] += self.alpha\n",
    "        try:\n",
    "            self.L_ = cholesky(K, lower=GPR_CHOLESKY_LOWER, check_finite=False)\n",
    "        except np.linalg.LinAlgError as exc:\n",
    "            exc.args = (\n",
    "                f\"The kernel, {self.kernel_}, is not returning a positive \"\n",
    "                \"definite matrix. Try gradually increasing the 'alpha' \"\n",
    "                \"parameter of your GaussianProcessRegressor estimator.\",\n",
    "            ) + exc.args\n",
    "            raise\n",
    "        # Alg 2.1, page 19, line 3 -> alpha = L^T \\ (L \\ y)\n",
    "        self.alpha_ = cho_solve(\n",
    "            (self.L_, GPR_CHOLESKY_LOWER),\n",
    "            self.y,\n",
    "            check_finite=False,\n",
    "        )\n",
    "        return self\n",
    "    \n",
    "    def predict(self, X):\n",
    "        X = (X-self.X_mean)/self.X_std\n",
    "        K_trans = self.se_kernel(X, self.X)\n",
    "        y_mean = K_trans @ self.alpha_\n",
    "        y_mean = self.y_std * y_mean + self.y_mean\n",
    "        # V = solve_triangular(\n",
    "        #     self.L_, K_trans.T, lower=GPR_CHOLESKY_LOWER, check_finite=False\n",
    "        # )\n",
    "        \n",
    "        return y_mean\n",
    "\n",
    "\n",
    "\n",
    "\n",
    "from torch.nn import functional as F\n",
    "def p_loss_fn(x,y):\n",
    "    loss =  F.l1_loss(x,y, reduction='none')\n",
    "    loss = torch.mean(loss, dim=list(range(1,loss.ndim)))\n",
    "    return loss\n",
    "\n",
    "\n",
    "\n",
    "# %%\n",
    "test_pred_list = []\n",
    "test_target_list = []\n",
    "ext_pred_list = []\n",
    "ext_target_list = []\n",
    "\n",
    "train_batch = train_sampler.sample_all()\n",
    "test_batch = test_sampler.sample_all()\n",
    "ext_batch = ext_sampler.sample_all()\n",
    "\n",
    "for i in range(args.marker_num):\n",
    "    # Train Dataset #\n",
    "    train_X, train_y = train_batch['motor_control'].numpy(), train_batch['position'].numpy()[:,i,:,0]\n",
    "\n",
    "\n",
    "    # Test Dataset\n",
    "    test_X, test_y = test_batch['motor_control'].numpy(), test_batch['position'].numpy()[:,i,:,0]\n",
    "\n",
    "    # Ext Dataset\n",
    "    ext_X, ext_y = ext_batch['motor_control'].numpy(), ext_batch['position'].numpy()[:,i,:,0]\n",
    "\n",
    "\n",
    "    gpr = GPR()\n",
    "    gpr.fit(train_X, train_y)\n",
    "    \n",
    "    pred_y = gpr.predict(test_X)\n",
    "\n",
    "    test_pred_list.append(torch.FloatTensor(pred_y))\n",
    "    test_target_list.append(torch.FloatTensor(test_y))\n",
    "    \n",
    "    pred_y = gpr.predict(ext_X)\n",
    "    ext_pred_list.append(torch.FloatTensor(pred_y))\n",
    "    ext_target_list.append(torch.FloatTensor(ext_y))\n",
    "    "
   ]
  },
  {
   "cell_type": "code",
   "execution_count": 129,
   "metadata": {},
   "outputs": [
    {
     "data": {
      "text/plain": [
       "0.0063729495741426945"
      ]
     },
     "execution_count": 129,
     "metadata": {},
     "output_type": "execute_result"
    }
   ],
   "source": [
    "# Interpolation\n",
    "test_pred = torch.stack(test_pred_list, dim = 1)\n",
    "test_target = torch.stack(test_target_list, dim=1)\n",
    "\n",
    "test_pred.shape, test_target.shape\n",
    "\n",
    "position_loss = p_loss_fn(test_pred, test_target)\n",
    "\n",
    "float(torch.mean(position_loss))"
   ]
  },
  {
   "cell_type": "code",
   "execution_count": 130,
   "metadata": {},
   "outputs": [
    {
     "data": {
      "text/plain": [
       "0.012367046438157558"
      ]
     },
     "execution_count": 130,
     "metadata": {},
     "output_type": "execute_result"
    }
   ],
   "source": [
    "# Extrapolation\n",
    "ext_pred = torch.stack(ext_pred_list, dim = 1)\n",
    "ext_target = torch.stack(ext_target_list, dim=1)\n",
    "\n",
    "ext_pred.shape, ext_target.shape\n",
    "\n",
    "position_loss = p_loss_fn(ext_pred, ext_target)\n",
    "float(torch.mean(position_loss))"
   ]
  },
  {
   "cell_type": "code",
   "execution_count": null,
   "metadata": {},
   "outputs": [],
   "source": []
  }
 ],
 "metadata": {
  "kernelspec": {
   "display_name": "Python 3",
   "language": "python",
   "name": "python3"
  },
  "language_info": {
   "codemirror_mode": {
    "name": "ipython",
    "version": 3
   },
   "file_extension": ".py",
   "mimetype": "text/x-python",
   "name": "python",
   "nbconvert_exporter": "python",
   "pygments_lexer": "ipython3",
   "version": "3.9.10"
  },
  "orig_nbformat": 4
 },
 "nbformat": 4,
 "nbformat_minor": 2
}
