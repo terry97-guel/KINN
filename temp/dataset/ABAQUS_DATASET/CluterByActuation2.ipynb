{
 "cells": [
  {
   "cell_type": "code",
   "execution_count": 3,
   "metadata": {},
   "outputs": [
    {
     "data": {
      "text/plain": [
       "((5644, 7, 3), (5644, 3))"
      ]
     },
     "execution_count": 3,
     "metadata": {},
     "output_type": "execute_result"
    }
   ],
   "source": [
    "import json\n",
    "import numpy as np\n",
    "dataPaths = [\"AbaqusTest.json\", \"AbaqusTrain.json\", \"AbaqusValidate.json\"]\n",
    "\n",
    "label, input = [],[]\n",
    "\n",
    "for dataPath in dataPaths:\n",
    "    with open(dataPath,'r') as RawData:\n",
    "        rawData = json.load(RawData)\n",
    "    rawData = rawData['data']\n",
    "    \n",
    "    for rawDatum in rawData:\n",
    "        input.append(rawDatum['actuation'])\n",
    "        label.append(rawDatum['position'])\n",
    "        \n",
    "label = np.array(label)\n",
    "input = np.array(input)\n",
    "\n",
    "label.shape, input.shape"
   ]
  },
  {
   "cell_type": "code",
   "execution_count": 4,
   "metadata": {},
   "outputs": [],
   "source": [
    "input_norm = np.linalg.norm(input, axis=1)"
   ]
  },
  {
   "cell_type": "code",
   "execution_count": 10,
   "metadata": {},
   "outputs": [
    {
     "data": {
      "text/plain": [
       "array([1837, 5445,  143, ...,  221, 2672, 4349])"
      ]
     },
     "execution_count": 10,
     "metadata": {},
     "output_type": "execute_result"
    }
   ],
   "source": [
    "np.argsort(input_norm)\n"
   ]
  },
  {
   "cell_type": "code",
   "execution_count": 6,
   "metadata": {},
   "outputs": [
    {
     "data": {
      "text/plain": [
       "(0.08204621217485711, 1.0077470113263696)"
      ]
     },
     "execution_count": 6,
     "metadata": {},
     "output_type": "execute_result"
    }
   ],
   "source": [
    "input_norm[1837], input_norm[4349]"
   ]
  }
 ],
 "metadata": {
  "kernelspec": {
   "display_name": "sminet",
   "language": "python",
   "name": "python3"
  },
  "language_info": {
   "codemirror_mode": {
    "name": "ipython",
    "version": 3
   },
   "file_extension": ".py",
   "mimetype": "text/x-python",
   "name": "python",
   "nbconvert_exporter": "python",
   "pygments_lexer": "ipython3",
   "version": "3.9.10"
  },
  "orig_nbformat": 4,
  "vscode": {
   "interpreter": {
    "hash": "f3f92ada706c0618b057f77c789d6fc3d1e20fd80507d4f535a742f45f53e732"
   }
  }
 },
 "nbformat": 4,
 "nbformat_minor": 2
}
